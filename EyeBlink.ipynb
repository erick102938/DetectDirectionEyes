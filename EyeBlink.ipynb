{
  "cells": [
    {
      "cell_type": "code",
      "execution_count": null,
      "metadata": {
        "colab": {
          "base_uri": "https://localhost:8080/"
        },
        "id": "FNYbZBX5EMyg",
        "outputId": "8ccb6574-fb49-4e16-948e-01b7f25ff9a9"
      },
      "outputs": [
        {
          "output_type": "stream",
          "name": "stdout",
          "text": [
            "Collecting odfpy\n",
            "  Downloading odfpy-1.4.1.tar.gz (717 kB)\n",
            "\u001b[K     |████████████████████████████████| 717 kB 5.5 MB/s \n",
            "\u001b[?25hRequirement already satisfied: defusedxml in /usr/local/lib/python3.7/dist-packages (from odfpy) (0.7.1)\n",
            "Building wheels for collected packages: odfpy\n",
            "  Building wheel for odfpy (setup.py) ... \u001b[?25l\u001b[?25hdone\n",
            "  Created wheel for odfpy: filename=odfpy-1.4.1-py2.py3-none-any.whl size=160692 sha256=63e298e773a8b9b9e0303f116af4461818830d404bfb1b558c509ffa17732087\n",
            "  Stored in directory: /root/.cache/pip/wheels/e2/f4/5d/a68c656235d33455a1d0f78e877acddfa006907a6d52d7e6ee\n",
            "Successfully built odfpy\n",
            "Installing collected packages: odfpy\n",
            "Successfully installed odfpy-1.4.1\n"
          ]
        }
      ],
      "source": [
        "!pip install odfpy"
      ]
    },
    {
      "cell_type": "code",
      "execution_count": null,
      "metadata": {
        "id": "cBak0MJgPAvM"
      },
      "outputs": [],
      "source": [
        "import os\n",
        "import keras as k\n",
        "import numpy as np\n",
        "import matplotlib.pyplot as plt\n",
        "import cv2\n",
        "import time\n",
        "import pandas as pd\n",
        "import tensorflow as tf\n",
        "from google.colab.patches import cv2_imshow\n",
        "import math\n",
        "from skimage.color import rgb2gray\n",
        "from skimage.transform import resize\n",
        "import shutil\n",
        "import zipfile\n",
        "import seaborn as sns\n",
        "from keras.layers import Conv2D,MaxPool2D,Flatten,Dense\n",
        "from sklearn.model_selection import train_test_split"
      ]
    },
    {
      "cell_type": "code",
      "execution_count": null,
      "metadata": {
        "id": "Xa90R1b-DL7_"
      },
      "outputs": [],
      "source": [
        "with zipfile.ZipFile(\"/content/drive/MyDrive/mrlEyes_2018_01.zip\",\"r\") as zip_ref:\n",
        "    zip_ref.extractall(\"/home/\")"
      ]
    },
    {
      "cell_type": "code",
      "execution_count": null,
      "metadata": {
        "id": "rY6Zxjlr78w2"
      },
      "outputs": [],
      "source": [
        "!rm -r '/home/mrlEyes_2018_01/s0037/'\n",
        "!rm -r '/home/mrlEyes_2018_01/s0036/'\n",
        "!rm -r '/home/mrlEyes_2018_01/s0034/'\n",
        "!rm -r '/home/mrlEyes_2018_01/s0033/'\n",
        "!rm -r '/home/mrlEyes_2018_01/s0032/'\n",
        "!rm -r '/home/mrlEyes_2018_01/s0030/'\n",
        "!rm -r '/home/mrlEyes_2018_01/s0029/'\n",
        "!rm -r '/home/mrlEyes_2018_01/s0028/'\n",
        "!rm -r '/home/mrlEyes_2018_01/s0027/'\n",
        "!rm -r '/home/mrlEyes_2018_01/s0026/'\n",
        "!rm -r '/home/mrlEyes_2018_01/s0025/'\n",
        "!rm -r '/home/mrlEyes_2018_01/s0024/'\n",
        "!rm -r '/home/mrlEyes_2018_01/s0023/'\n",
        "!rm -r '/home/mrlEyes_2018_01/s0022/'\n",
        "!rm -r '/home/mrlEyes_2018_01/s0021/'\n",
        "!rm -r '/home/mrlEyes_2018_01/s0020/'\n",
        "!rm -r '/home/mrlEyes_2018_01/s0019/'\n",
        "!rm -r '/home/mrlEyes_2018_01/s0018/'\n",
        "!rm -r '/home/mrlEyes_2018_01/s0016/'\n",
        "!rm -r '/home/mrlEyes_2018_01/s0017/'\n",
        "!rm -r '/home/mrlEyes_2018_01/s0014/'\n",
        "!rm -r '/home/mrlEyes_2018_01/s0013/'\n",
        "!rm -r '/home/mrlEyes_2018_01/s0012/'\n",
        "!rm -r '/home/mrlEyes_2018_01/s0011/'\n",
        "!rm -r '/home/mrlEyes_2018_01/s0002/'\n",
        "!rm -r '/home/mrlEyes_2018_01/s0003/'\n",
        "!rm -r '/home/mrlEyes_2018_01/s0004/'\n",
        "!rm -r '/home/mrlEyes_2018_01/s0005/'\n",
        "!rm -r '/home/mrlEyes_2018_01/s0007/'\n",
        "!rm -r '/home/mrlEyes_2018_01/s0008/'\n",
        "!rm -r '/home/mrlEyes_2018_01/s0010/'\n"
      ]
    },
    {
      "cell_type": "code",
      "execution_count": null,
      "metadata": {
        "colab": {
          "base_uri": "https://localhost:8080/"
        },
        "id": "rXLK3N9UESle",
        "outputId": "c7fbf24a-ed56-4c41-d062-b245ff68c4ad"
      },
      "outputs": [
        {
          "output_type": "execute_result",
          "data": {
            "text/plain": [
              "['s0001',\n",
              " 's0006',\n",
              " 's0015',\n",
              " 'stats_2018_01.ods',\n",
              " 'annotation.txt',\n",
              " 's0031',\n",
              " 's0035',\n",
              " 's0009']"
            ]
          },
          "metadata": {},
          "execution_count": 5
        }
      ],
      "source": [
        "os.listdir('/home/mrlEyes_2018_01/')"
      ]
    },
    {
      "cell_type": "code",
      "execution_count": null,
      "metadata": {
        "id": "P3xwqeSxEbZw"
      },
      "outputs": [],
      "source": [
        "dataFrame = pd.read_excel('/home/mrlEyes_2018_01/stats_2018_01.ods')"
      ]
    },
    {
      "cell_type": "code",
      "execution_count": null,
      "metadata": {
        "colab": {
          "base_uri": "https://localhost:8080/"
        },
        "id": "Yj7nUOq0Esd8",
        "outputId": "4dfa41db-8925-4ef8-f0c0-fdf39973d97d"
      },
      "outputs": [
        {
          "output_type": "stream",
          "name": "stdout",
          "text": [
            "   subject  gender  glasses  close  open  no reflection  low reflection  \\\n",
            "0    s0001       0     1616   1841  1401           2202              30   \n",
            "1    s0002       0        0   1007   107           1114               0   \n",
            "2    s0003       0        0    559   120            679               0   \n",
            "3    s0004       0        0   1069     0           1068               1   \n",
            "4    s0005       0        0    708    28            736               0   \n",
            "5    s0006       0     1012   1011     1            137             814   \n",
            "6    s0007       0        0    613    11            624               0   \n",
            "7    s0008       0      832    832     0            567             213   \n",
            "8    s0009       0        0    363    24            387               0   \n",
            "9    s0010       0        0    331    68            399               0   \n",
            "10   s0011       0        0   1508   140           1648               0   \n",
            "11   s0012       0     2942   4497  4231           5175            1420   \n",
            "12   s0013       0     1377   2975   630           3494             111   \n",
            "13   s0014       0     1670   3768  5116           5988            1318   \n",
            "14   s0015       0        0    784   348           1132               0   \n",
            "15   s0016       1        0   1716   173           1669             191   \n",
            "16   s0017       1        0   1319   329           1644               4   \n",
            "17   s0018       0     2093   3689   721           3805             106   \n",
            "18   s0019       0        0   2907  3268           6171               4   \n",
            "19   s0020       0        0     25   679            695               9   \n",
            "20   s0021       0      599    135   852            531              91   \n",
            "21   s0022       0      167    126   256            228               7   \n",
            "22   s0023       0        0     55   467            511              11   \n",
            "23   s0024       0      428    205   547            620              31   \n",
            "24   s0025       0        0    137  1365           1498               4   \n",
            "25   s0026       0        0    409   837           1245               1   \n",
            "26   s0027       0      329     92   573            410              46   \n",
            "27   s0028       0      489     13   723            733               3   \n",
            "28   s0029       0        0    177  1216           1383              10   \n",
            "29   s0030       0        0    331  1053           1369              15   \n",
            "30   s0031       0        0    241  1497            694             554   \n",
            "31   s0032       0     2714    143  6019           1532             712   \n",
            "32   s0033       0        0    109   572            667              14   \n",
            "33   s0034       0        0    113   626            739               0   \n",
            "34   s0035       0      642     21   621            412              86   \n",
            "35   s0036       1     2522   2096  4097           5116             119   \n",
            "36   s0037       1     4569   6020  4237           9038             204   \n",
            "\n",
            "    high reflection  bad light  good light  sensor RS300  sensor IDS  \\\n",
            "0              1010       2998         244          3242           0   \n",
            "1                 0        989         125          1114           0   \n",
            "2                 0        660          19           679           0   \n",
            "3                 0        948         121          1069           0   \n",
            "4                 0        612         124           736           0   \n",
            "5                61       1012           0          1012           0   \n",
            "6                 0        468         156           624           0   \n",
            "7                52        832           0           832           0   \n",
            "8                 0        387           0           387           0   \n",
            "9                 0        399           0           399           0   \n",
            "10                0       1529         119          1648           0   \n",
            "11             2133       4770        3958          5988        1097   \n",
            "12                0       3605           0          3605           0   \n",
            "13             1578       4867        4017          6149        1614   \n",
            "14                0        103        1029          1132           0   \n",
            "15               29        187        1702          1889           0   \n",
            "16                0        679         969          1648           0   \n",
            "17              499       2164        2246          4410           0   \n",
            "18                0       5432         743          6175           0   \n",
            "19                0        337         367           704           0   \n",
            "20              365        949          38           987           0   \n",
            "21              147          1         381           382           0   \n",
            "22                0          2         520           522           0   \n",
            "23              101        746           6           752           0   \n",
            "24                0        870         632          1502           0   \n",
            "25                0        947         299          1246           0   \n",
            "26              209        487         178           665           0   \n",
            "27                0        728           8           736           0   \n",
            "28                0        163        1230          1393           0   \n",
            "29                0        483         901          1384           0   \n",
            "30              490         82        1656             0        1738   \n",
            "31             3918        673        5489             0        6162   \n",
            "32                0         74         607           681           0   \n",
            "33                0        737           2             0         739   \n",
            "34              144        262         380             0         642   \n",
            "35              958       5487         706          6193           0   \n",
            "36             1015       7961        2296         10257           0   \n",
            "\n",
            "    sensor Aptina  \n",
            "0               0  \n",
            "1               0  \n",
            "2               0  \n",
            "3               0  \n",
            "4               0  \n",
            "5               0  \n",
            "6               0  \n",
            "7               0  \n",
            "8               0  \n",
            "9               0  \n",
            "10              0  \n",
            "11           1643  \n",
            "12              0  \n",
            "13           1121  \n",
            "14              0  \n",
            "15              0  \n",
            "16              0  \n",
            "17              0  \n",
            "18              0  \n",
            "19              0  \n",
            "20              0  \n",
            "21              0  \n",
            "22              0  \n",
            "23              0  \n",
            "24              0  \n",
            "25              0  \n",
            "26              0  \n",
            "27              0  \n",
            "28              0  \n",
            "29              0  \n",
            "30              0  \n",
            "31              0  \n",
            "32              0  \n",
            "33              0  \n",
            "34              0  \n",
            "35              0  \n",
            "36              0  \n"
          ]
        }
      ],
      "source": [
        "print(dataFrame)"
      ]
    },
    {
      "cell_type": "markdown",
      "metadata": {
        "id": "N1IvJba9GWwO"
      },
      "source": [
        "Hacer un dataframe con las caracteristicas"
      ]
    },
    {
      "cell_type": "markdown",
      "metadata": {
        "id": "dbfRbbL7G9St"
      },
      "source": [
        "subject ID:\n",
        "xxx\n",
        "\n",
        "image number:\n",
        "xxx\n",
        "\n",
        "gender:\n",
        "0 - male\n",
        "1 - famale\n",
        "\n",
        "glasses:\n",
        "0 - no\n",
        "1 - yes\n",
        "\n",
        "eye state:\n",
        "0 - close\n",
        "1 - open\n",
        "\n",
        "reflections:\n",
        "0 - none\n",
        "1 - low\n",
        "2 - high\n",
        "\n",
        "lighting conditions/image quality:\n",
        "0 - bad\n",
        "1 - good\n",
        "\n",
        "sensor type:\n",
        "01 - RealSense SR300 640x480\n",
        "02 - IDS Imaging, 1280x1024\n",
        "03 - Aptina Imagin 752x480\n",
        "\n",
        "example:\n",
        "s001_00123_0_0_0_0_0_01.png\n"
      ]
    },
    {
      "cell_type": "markdown",
      "metadata": {
        "id": "EA4sHh_pGxl-"
      },
      "source": [
        "extrae las caracteristicas de un archivo"
      ]
    },
    {
      "cell_type": "code",
      "execution_count": null,
      "metadata": {
        "id": "N2e2VxrKGxA2"
      },
      "outputs": [],
      "source": [
        "def caracteristicas(dir):\n",
        "  img = []\n",
        "  genero = []\n",
        "  lentes = []\n",
        "  estadoOjo = []\n",
        "  reflex = []\n",
        "  condicion = []\n",
        "  sensor = []\n",
        "\n",
        "  for i in dir:\n",
        "    try: \n",
        "      subDir = os.listdir('/home/mrlEyes_2018_01/'+i)\n",
        "      for j in subDir:\n",
        "        img.append(str(j))\n",
        "        string = j.split('_')\n",
        "        genero.append(int(string[2]))\n",
        "        lentes.append(int(string[3]))\n",
        "        estadoOjo.append(int(string[4]))\n",
        "        condicion.append(int(string[5]))\n",
        "        reflex.append(int(string[6]))\n",
        "        sensor.append(int(string[7][:-4]))\n",
        "\n",
        "    except:\n",
        "      'no es dir'\n",
        "  print(len(img),len(genero),len(lentes),len(estadoOjo),len(reflex))\n",
        "  dataFrame = {'imagen':img,'genero':genero,'lentes':lentes,'estadoOjo':estadoOjo,'reflex':reflex,'sensor':sensor}\n",
        "  dataFrame = pd.DataFrame(data = dataFrame)\n",
        "  img = []\n",
        "  genero = []\n",
        "  lentes = []\n",
        "  estadoOjo = []\n",
        "  reflex = []\n",
        "  condicion = []\n",
        "  sensor = []\n",
        "  return dataFrame"
      ]
    },
    {
      "cell_type": "markdown",
      "metadata": {
        "id": "mrwCMaJw0iag"
      },
      "source": [
        "sensor ID [01 - RealSense, 02 - IDS, 03 - Aptina]; at this moment, the dataset contains the images captured by three different sensors (Intel RealSense RS 300 sensor with 640 x 480 resolution, IDS Imaging sensor with 1280 x 1024 resolution, and Aptina sensor with 752 x 480 resolution)\n"
      ]
    },
    {
      "cell_type": "code",
      "execution_count": null,
      "metadata": {
        "colab": {
          "base_uri": "https://localhost:8080/"
        },
        "id": "9UNVg2yFua8S",
        "outputId": "bab32b58-32c4-46fe-96a9-9b116f43473c"
      },
      "outputs": [
        {
          "output_type": "stream",
          "name": "stdout",
          "text": [
            "8153 8153 8153 8153 8153\n"
          ]
        }
      ],
      "source": [
        "data = caracteristicas(os.listdir('/home/mrlEyes_2018_01/'))"
      ]
    },
    {
      "cell_type": "code",
      "execution_count": null,
      "metadata": {
        "colab": {
          "base_uri": "https://localhost:8080/"
        },
        "id": "dOg7G4BKx7Uh",
        "outputId": "4f8349bd-4f2d-4781-d984-91e219ae66d6"
      },
      "outputs": [
        {
          "output_type": "stream",
          "name": "stdout",
          "text": [
            "                            imagen  genero  lentes  estadoOjo  reflex  sensor\n",
            "0     s0001_00853_0_0_0_0_0_01.png       0       0          0       0       1\n",
            "1     s0001_01468_0_1_0_0_0_01.png       0       1          0       0       1\n",
            "2     s0001_01667_0_1_0_0_1_01.png       0       1          0       1       1\n",
            "3     s0001_02094_0_0_1_0_0_01.png       0       0          1       0       1\n",
            "4     s0001_00301_0_0_0_0_0_01.png       0       0          0       0       1\n",
            "...                            ...     ...     ...        ...     ...     ...\n",
            "8148  s0009_00225_0_0_0_0_0_01.png       0       0          0       0       1\n",
            "8149  s0009_00174_0_0_0_0_0_01.png       0       0          0       0       1\n",
            "8150  s0009_00120_0_0_0_0_0_01.png       0       0          0       0       1\n",
            "8151  s0009_00108_0_0_0_0_0_01.png       0       0          0       0       1\n",
            "8152  s0009_00226_0_0_0_0_0_01.png       0       0          0       0       1\n",
            "\n",
            "[8153 rows x 6 columns]\n"
          ]
        }
      ],
      "source": [
        "print(data)"
      ]
    },
    {
      "cell_type": "markdown",
      "metadata": {
        "id": "N0bdw6Fk0OgP"
      },
      "source": [
        "taget ojos cerrados y abiertos y, otras caracteristicas x"
      ]
    },
    {
      "cell_type": "code",
      "execution_count": null,
      "metadata": {
        "colab": {
          "base_uri": "https://localhost:8080/",
          "height": 729
        },
        "id": "moMlYLv50IMA",
        "outputId": "0bbb094f-af74-495f-932d-7a63ffd88c7b"
      },
      "outputs": [
        {
          "output_type": "execute_result",
          "data": {
            "text/plain": [
              "array([[<matplotlib.axes._subplots.AxesSubplot object at 0x7f167e99ccd0>,\n",
              "        <matplotlib.axes._subplots.AxesSubplot object at 0x7f1679d87990>],\n",
              "       [<matplotlib.axes._subplots.AxesSubplot object at 0x7f1679d42f90>,\n",
              "        <matplotlib.axes._subplots.AxesSubplot object at 0x7f1679d045d0>],\n",
              "       [<matplotlib.axes._subplots.AxesSubplot object at 0x7f1679cbab10>,\n",
              "        <matplotlib.axes._subplots.AxesSubplot object at 0x7f1679c7e190>]],\n",
              "      dtype=object)"
            ]
          },
          "metadata": {},
          "execution_count": 11
        },
        {
          "output_type": "display_data",
          "data": {
            "image/png": "[encoded data removed]",
            "text/plain": [
              "<Figure size 1440x720 with 6 Axes>"
            ]
          },
          "metadata": {
            "needs_background": "light"
          }
        }
      ],
      "source": [
        "data.hist(figsize=(20,10))"
      ]
    },
    {
      "cell_type": "code",
      "execution_count": null,
      "metadata": {
        "colab": {
          "base_uri": "https://localhost:8080/",
          "height": 867
        },
        "id": "-mpWEMJV2Y3f",
        "outputId": "a3ffddd5-f8b9-4599-d4bc-25d720003f8f"
      },
      "outputs": [
        {
          "output_type": "execute_result",
          "data": {
            "text/plain": [
              "<matplotlib.axes._subplots.AxesSubplot at 0x7f1679bf3150>"
            ]
          },
          "metadata": {},
          "execution_count": 12
        },
        {
          "output_type": "display_data",
          "data": {
            "image/png": "[encoded data removed]",
            "text/plain": [
              "<Figure size 1080x1080 with 2 Axes>"
            ]
          },
          "metadata": {}
        }
      ],
      "source": [
        "sns.set(style='whitegrid',font_scale=1)\n",
        "plt.figure(figsize=(15,15))\n",
        "plt.title('Pearson')\n",
        "sns.heatmap(data.corr(),vmax=0.6,square=True,cmap='GnBu',linecolor='b',annot=True,annot_kws={\"size\":8})"
      ]
    },
    {
      "cell_type": "markdown",
      "metadata": {
        "id": "pVv5_qVX2ybv"
      },
      "source": [
        "array de img"
      ]
    },
    {
      "cell_type": "code",
      "execution_count": null,
      "metadata": {
        "id": "4DsytvgY2xff"
      },
      "outputs": [],
      "source": [
        "def arrImg(dir):\n",
        "  img = []\n",
        "  for i in dir:\n",
        "    try: \n",
        "      subDir = os.listdir('/home/mrlEyes_2018_01/'+i)\n",
        "      for j in subDir:\n",
        "        x = cv2.imread('/home/mrlEyes_2018_01/'+i+'/'+j)\n",
        "        x = cv2.resize(x,(224,224),interpolation = cv2.INTER_AREA)\n",
        "        #x=tf.keras.utils.normalize(x)\n",
        "        img.append(x)\n",
        "    except:\n",
        "      'no es dir'\n",
        "  arrImg = np.array(img)\n",
        "  img = []\n",
        "  return arrImg"
      ]
    },
    {
      "cell_type": "code",
      "execution_count": null,
      "metadata": {
        "id": "XhUDCR1-6yJf"
      },
      "outputs": [],
      "source": [
        "x = cv2.imread('/home/mrlEyes_2018_01/s0001/s0001_00005_0_0_0_0_0_01.png')\n",
        "x = cv2.resize(x,(180,180),interpolation = cv2.INTER_AREA)\n",
        "arr = np.array(x)\n",
        "#x=tf.keras.utils.normalize(arr)"
      ]
    },
    {
      "cell_type": "code",
      "execution_count": null,
      "metadata": {
        "colab": {
          "base_uri": "https://localhost:8080/",
          "height": 197
        },
        "id": "yWSvWsc06_pF",
        "outputId": "a905c73a-9412-499f-89b1-63c4843084e5"
      },
      "outputs": [
        {
          "output_type": "display_data",
          "data": {
            "image/png": "[encoded data removed]",
            "text/plain": [
              "<PIL.Image.Image image mode=RGB size=180x180 at 0x7F167958D290>"
            ]
          },
          "metadata": {}
        }
      ],
      "source": [
        "cv2_imshow(arr)"
      ]
    },
    {
      "cell_type": "code",
      "execution_count": null,
      "metadata": {
        "id": "u1WaAhp13lxA"
      },
      "outputs": [],
      "source": [
        "arrImg = arrImg(os.listdir('/home/mrlEyes_2018_01/'))"
      ]
    },
    {
      "cell_type": "code",
      "execution_count": null,
      "metadata": {
        "id": "iUXBdRHN3tX3",
        "colab": {
          "base_uri": "https://localhost:8080/"
        },
        "outputId": "54163163-eef1-4e57-ea3b-ea015e619a0d"
      },
      "outputs": [
        {
          "output_type": "stream",
          "name": "stdout",
          "text": [
            "(8153, 224, 224, 3)\n"
          ]
        }
      ],
      "source": [
        "print(arrImg.shape)"
      ]
    },
    {
      "cell_type": "code",
      "execution_count": null,
      "metadata": {
        "id": "JavV2HtQ84GO"
      },
      "outputs": [],
      "source": [
        "!nvidia-smi\n",
        "!kill process_id\n",
        "from google.colab import output\n",
        "output.clear()"
      ]
    },
    {
      "cell_type": "code",
      "execution_count": null,
      "metadata": {
        "id": "plhFYB22-27U"
      },
      "outputs": [],
      "source": [
        "y=data['estadoOjo']\n",
        "X=arrImg\n"
      ]
    },
    {
      "cell_type": "code",
      "execution_count": null,
      "metadata": {
        "id": "HZT2rKac_GZM"
      },
      "outputs": [],
      "source": [
        "X_train, X_test, y_train, y_test = train_test_split(X,y,test_size=0.33)"
      ]
    },
    {
      "cell_type": "markdown",
      "metadata": {
        "id": "9KxMEIZOH6fL"
      },
      "source": [
        "Redes Neuronales ResNet"
      ]
    },
    {
      "cell_type": "code",
      "execution_count": null,
      "metadata": {
        "id": "xdY_sjXoFCzW"
      },
      "outputs": [],
      "source": [
        "model = k.Sequential()"
      ]
    },
    {
      "cell_type": "code",
      "execution_count": null,
      "metadata": {
        "id": "2XP0M_m04Pyv"
      },
      "outputs": [],
      "source": [
        "from keras.layers.pooling import MaxPooling2D\n",
        "from keras.layers.core.activation import Activation\n",
        "from keras.backend import conv2d\n",
        "model.add(k.layers.InputLayer(input_shape = (224,224,3)))\n",
        "model.add(k.layers.BatchNormalization())\n",
        "\n",
        "model.add(Conv2D(32,(3,3),activation='relu'))\n",
        "model.add(Conv2D(32,(3,3),activation='relu'))\n",
        "model.add(MaxPooling2D((2,2)))\n",
        "\n",
        "model.add(Conv2D(64,(3,3),activation='relu'))\n",
        "model.add(Conv2D(64,(3,3),activation='relu'))\n",
        "model.add(MaxPooling2D((2,2)))\n",
        "\n",
        "model.add(Conv2D(128,(3,3),activation='relu'))\n",
        "model.add(Conv2D(128,(3,3),activation='relu'))\n",
        "model.add(Conv2D(128,(3,3),activation='relu'))\n",
        "model.add(Conv2D(128,(3,3),activation='relu'))\n",
        "model.add(MaxPooling2D((2,2)))\n",
        "\n",
        "model.add(Conv2D(256,(3,3),activation='relu'))\n",
        "model.add(Conv2D(256,(3,3),activation='relu'))\n",
        "model.add(Conv2D(256,(3,3),activation='relu'))\n",
        "model.add(Conv2D(256,(3,3),activation='relu'))\n",
        "model.add(MaxPooling2D((2,2)))\n",
        "model.add(k.layers.Dropout(0.4))\n",
        "\n",
        "model.add(Flatten())\n",
        "model.add(Dense(128, activation='relu'))\n",
        "model.add(Dense(1, activation='sigmoid'))"
      ]
    },
    {
      "cell_type": "code",
      "execution_count": null,
      "metadata": {
        "colab": {
          "base_uri": "https://localhost:8080/"
        },
        "id": "iTzLRjEw-yz9",
        "outputId": "0f62ec1b-2759-4377-a1db-3cbf951b45df"
      },
      "outputs": [
        {
          "output_type": "stream",
          "name": "stdout",
          "text": [
            "Model: \"sequential\"\n",
            "_________________________________________________________________\n",
            " Layer (type)                Output Shape              Param #   \n",
            "=================================================================\n",
            " batch_normalization (BatchN  (None, 224, 224, 3)      12        \n",
            " ormalization)                                                   \n",
            "                                                                 \n",
            " conv2d (Conv2D)             (None, 222, 222, 32)      896       \n",
            "                                                                 \n",
            " conv2d_1 (Conv2D)           (None, 220, 220, 32)      9248      \n",
            "                                                                 \n",
            " max_pooling2d (MaxPooling2D  (None, 110, 110, 32)     0         \n",
            " )                                                               \n",
            "                                                                 \n",
            " conv2d_2 (Conv2D)           (None, 108, 108, 64)      18496     \n",
            "                                                                 \n",
            " conv2d_3 (Conv2D)           (None, 106, 106, 64)      36928     \n",
            "                                                                 \n",
            " max_pooling2d_1 (MaxPooling  (None, 53, 53, 64)       0         \n",
            " 2D)                                                             \n",
            "                                                                 \n",
            " conv2d_4 (Conv2D)           (None, 51, 51, 128)       73856     \n",
            "                                                                 \n",
            " conv2d_5 (Conv2D)           (None, 49, 49, 128)       147584    \n",
            "                                                                 \n",
            " conv2d_6 (Conv2D)           (None, 47, 47, 128)       147584    \n",
            "                                                                 \n",
            " conv2d_7 (Conv2D)           (None, 45, 45, 128)       147584    \n",
            "                                                                 \n",
            " max_pooling2d_2 (MaxPooling  (None, 22, 22, 128)      0         \n",
            " 2D)                                                             \n",
            "                                                                 \n",
            " conv2d_8 (Conv2D)           (None, 20, 20, 256)       295168    \n",
            "                                                                 \n",
            " conv2d_9 (Conv2D)           (None, 18, 18, 256)       590080    \n",
            "                                                                 \n",
            " conv2d_10 (Conv2D)          (None, 16, 16, 256)       590080    \n",
            "                                                                 \n",
            " conv2d_11 (Conv2D)          (None, 14, 14, 256)       590080    \n",
            "                                                                 \n",
            " max_pooling2d_3 (MaxPooling  (None, 7, 7, 256)        0         \n",
            " 2D)                                                             \n",
            "                                                                 \n",
            " flatten (Flatten)           (None, 12544)             0         \n",
            "                                                                 \n",
            " dense (Dense)               (None, 128)               1605760   \n",
            "                                                                 \n",
            " dense_1 (Dense)             (None, 2)                 258       \n",
            "                                                                 \n",
            "=================================================================\n",
            "Total params: 4,253,614\n",
            "Trainable params: 4,253,608\n",
            "Non-trainable params: 6\n",
            "_________________________________________________________________\n"
          ]
        }
      ],
      "source": [
        "model.summary()"
      ]
    },
    {
      "cell_type": "code",
      "execution_count": null,
      "metadata": {
        "colab": {
          "base_uri": "https://localhost:8080/",
          "height": 757
        },
        "id": "qBwsD-QB_un0",
        "outputId": "7406574f-06bf-4269-ab41-357c812a01d1"
      },
      "outputs": [
        {
          "output_type": "error",
          "ename": "NameError",
          "evalue": "ignored",
          "traceback": [
            "\u001b[0;31m---------------------------------------------------------------------------\u001b[0m",
            "\u001b[0;31mNameError\u001b[0m                                 Traceback (most recent call last)",
            "\u001b[0;32m<ipython-input-1-ac1f5bcf8f65>\u001b[0m in \u001b[0;36m<module>\u001b[0;34m()\u001b[0m\n\u001b[1;32m      1\u001b[0m \u001b[0;34m\u001b[0m\u001b[0m\n\u001b[0;32m----> 2\u001b[0;31m \u001b[0mopt\u001b[0m \u001b[0;34m=\u001b[0m \u001b[0mtf\u001b[0m\u001b[0;34m.\u001b[0m\u001b[0mkeras\u001b[0m\u001b[0;34m.\u001b[0m\u001b[0moptimizers\u001b[0m\u001b[0;34m.\u001b[0m\u001b[0mAdam\u001b[0m\u001b[0;34m(\u001b[0m\u001b[0mlr\u001b[0m\u001b[0;34m=\u001b[0m\u001b[0;36m0.0001\u001b[0m\u001b[0;34m)\u001b[0m\u001b[0;34m\u001b[0m\u001b[0;34m\u001b[0m\u001b[0m\n\u001b[0m\u001b[1;32m      3\u001b[0m \u001b[0mmodel\u001b[0m\u001b[0;34m.\u001b[0m\u001b[0mcompile\u001b[0m\u001b[0;34m(\u001b[0m\u001b[0mloss\u001b[0m \u001b[0;34m=\u001b[0m \u001b[0;34m\"MSE\"\u001b[0m\u001b[0;34m,\u001b[0m \u001b[0moptimizer\u001b[0m \u001b[0;34m=\u001b[0m \u001b[0mopt\u001b[0m\u001b[0;34m,\u001b[0m \u001b[0mmetrics\u001b[0m \u001b[0;34m=\u001b[0m \u001b[0;34m[\u001b[0m\u001b[0;34m'accuracy'\u001b[0m\u001b[0;34m]\u001b[0m\u001b[0;34m)\u001b[0m\u001b[0;34m\u001b[0m\u001b[0;34m\u001b[0m\u001b[0m\n",
            "\u001b[0;31mNameError\u001b[0m: name 'tf' is not defined"
          ]
        }
      ],
      "source": [
        "\n",
        "opt = tf.keras.optimizers.Adam(lr=0.0001)\n",
        "model.compile(loss = \"MSE\", optimizer = opt, metrics = ['accuracy'])"
      ]
    },
    {
      "cell_type": "code",
      "execution_count": null,
      "metadata": {
        "id": "PakdxQVLDvpV"
      },
      "outputs": [],
      "source": [
        "#model = k.models.load_model('/content/drive/MyDrive/modelBlink.h5')"
      ]
    },
    {
      "cell_type": "code",
      "execution_count": null,
      "metadata": {
        "id": "pzgH7QEg_xRl",
        "colab": {
          "base_uri": "https://localhost:8080/"
        },
        "outputId": "b80e2dc3-dddf-4cf8-f30c-54ec3ebc03f7"
      },
      "outputs": [
        {
          "output_type": "stream",
          "name": "stdout",
          "text": [
            "Epoch 1/10\n",
            "86/86 [==============================] - 62s 707ms/step - loss: 0.2625 - accuracy: 0.8995 - val_loss: 0.5867 - val_accuracy: 0.7042\n",
            "Epoch 2/10\n",
            "86/86 [==============================] - 62s 723ms/step - loss: 0.1329 - accuracy: 0.9561 - val_loss: 0.1291 - val_accuracy: 0.9573\n",
            "Epoch 3/10\n",
            "86/86 [==============================] - 62s 726ms/step - loss: 0.1033 - accuracy: 0.9617 - val_loss: 0.0925 - val_accuracy: 0.9695\n",
            "Epoch 4/10\n",
            "86/86 [==============================] - 61s 708ms/step - loss: 0.0846 - accuracy: 0.9716 - val_loss: 0.0820 - val_accuracy: 0.9747\n",
            "Epoch 5/10\n",
            "86/86 [==============================] - 61s 707ms/step - loss: 0.0781 - accuracy: 0.9716 - val_loss: 0.0943 - val_accuracy: 0.9684\n",
            "Epoch 6/10\n",
            "86/86 [==============================] - 61s 706ms/step - loss: 0.0680 - accuracy: 0.9777 - val_loss: 0.0653 - val_accuracy: 0.9803\n",
            "Epoch 7/10\n",
            "86/86 [==============================] - 61s 706ms/step - loss: 0.0589 - accuracy: 0.9797 - val_loss: 0.0652 - val_accuracy: 0.9803\n",
            "Epoch 8/10\n",
            "86/86 [==============================] - 61s 706ms/step - loss: 0.0506 - accuracy: 0.9789 - val_loss: 0.0752 - val_accuracy: 0.9781\n",
            "Epoch 9/10\n",
            "86/86 [==============================] - 61s 705ms/step - loss: 0.0493 - accuracy: 0.9822 - val_loss: 0.0697 - val_accuracy: 0.9796\n",
            "Epoch 10/10\n",
            "86/86 [==============================] - 62s 724ms/step - loss: 0.0449 - accuracy: 0.9826 - val_loss: 0.0646 - val_accuracy: 0.9814\n"
          ]
        },
        {
          "output_type": "execute_result",
          "data": {
            "text/plain": [
              "<keras.callbacks.History at 0x7f1580819d10>"
            ]
          },
          "metadata": {},
          "execution_count": 52
        }
      ],
      "source": [
        "model.fit(x=X_train,y=y_train,validation_data=(X_test,y_test),epochs=10,verbose=1,batch_size=64)"
      ]
    },
    {
      "cell_type": "code",
      "execution_count": null,
      "metadata": {
        "id": "QDuidd5ITjlc"
      },
      "outputs": [],
      "source": [
        "model.save('/content/drive/MyDrive/modelBlink.h5')"
      ]
    },
    {
      "cell_type": "code",
      "execution_count": null,
      "metadata": {
        "id": "Hd6rKhBvUCw2",
        "colab": {
          "base_uri": "https://localhost:8080/",
          "height": 322
        },
        "outputId": "f5629e77-f321-4435-95f5-c5510b0c7edc"
      },
      "outputs": [
        {
          "output_type": "display_data",
          "data": {
            "image/png": "[encoded data removed]",
            "text/plain": [
              "<Figure size 1080x360 with 1 Axes>"
            ]
          },
          "metadata": {}
        }
      ],
      "source": [
        "loss = pd.DataFrame(model.history.history)\n",
        "plt.figure(figsize=(15,5))\n",
        "sns.lineplot(data=loss,lw=3)\n",
        "sns.despine()"
      ]
    }
  ],
  "metadata": {
    "accelerator": "GPU",
    "colab": {
      "collapsed_sections": [],
      "name": "Tesis.ipynb",
      "provenance": []
    },
    "kernelspec": {
      "display_name": "Python 3",
      "name": "python3"
    },
    "language_info": {
      "name": "python"
    }
  },
  "nbformat": 4,
  "nbformat_minor": 0
}